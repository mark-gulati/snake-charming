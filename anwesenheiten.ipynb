{
 "cells": [
  {
   "cell_type": "code",
   "execution_count": 1,
   "source": [
    "import pandas as pd \n",
    "import re\n",
    "from io import StringIO"
   ],
   "outputs": [],
   "metadata": {}
  },
  {
   "cell_type": "code",
   "execution_count": 2,
   "source": [
    "pd.options.mode.chained_assignment = None  # default='warn'\n",
    "\n",
    "def extract_checkin(file_path, sheet_name, ranges, col_names):\n",
    "  # get date\n",
    "  date = pd.read_excel(\n",
    "      file_path,\n",
    "      sheet_name=sheet_name,\n",
    "      usecols= ranges,\n",
    "      nrows=0,\n",
    "      engine='openpyxl'\n",
    "  )\n",
    "\n",
    "  # Get the data\n",
    "  dfs = pd.read_excel(\n",
    "      file_path,\n",
    "      sheet_name=sheet_name,\n",
    "      usecols= ranges,\n",
    "      skiprows=2,\n",
    "      header=None,\n",
    "      names=col_names,\n",
    "      engine='openpyxl'\n",
    "  )\n",
    "  # Drop na names and add date\n",
    "  df = dfs[~dfs['Name'].isna()]\n",
    "  df['date'] = date.columns[0]\n",
    "  print(f'Extracted date {date.columns[0]}')\n",
    "  return df"
   ],
   "outputs": [],
   "metadata": {}
  },
  {
   "cell_type": "code",
   "execution_count": null,
   "source": [
    "sheetnames = []\n",
    "file_df = pd.ExcelFile('~/anwesenheiten/anwesenheiten.xlsx')\n",
    "sheets = file_df.sheet_names\n",
    "sheets"
   ],
   "outputs": [],
   "metadata": {}
  },
  {
   "cell_type": "code",
   "execution_count": null,
   "source": [
    "file_path = '~/anwesenheiten/anwesenheiten.xlsx'\n",
    "data_ranges = ['A:G', 'I:O', 'Q:W', 'Y:AE', 'AG:AM']\n",
    "col_names = ['Name', 'Company', 'Floor', 'Desk', 'Arrival time', 'Checked In', 'Notes']\n",
    "sheet_name='Week 38' # you can do another for loop for the tabs\n",
    "sheetnames = ['Week 38',\n",
    " 'Week 37',\n",
    " 'Week 36',\n",
    " 'Week 35',\n",
    " 'Week 34',\n",
    " 'Week 33',\n",
    " 'Week 32',\n",
    " 'Week 31',\n",
    " 'Week 30',\n",
    " 'Week 29',\n",
    " 'Week 28',\n",
    " 'Week 27',\n",
    " 'Week 26',\n",
    " 'Week 25',\n",
    " 'Week 24',\n",
    " 'Week 23',\n",
    " 'Week 22',\n",
    " 'Week 21']\n",
    "#dfl = []\n",
    "# for sheet in sheetnames:\n",
    "#   for r in data_ranges:\n",
    "#     dfl.append(extract_checkin(file_path, sheet, r, col_names))\n",
    "dfl2 = []\n",
    "for r in data_ranges:\n",
    "  dfl2.append(extract_checkin(file_path, sheet_name, r, col_names))\n",
    "# Each list contains multiple items (data frames?), one item for each date. However we want it in a data frame format. \n"
   ],
   "outputs": [],
   "metadata": {}
  },
  {
   "cell_type": "code",
   "execution_count": 67,
   "source": [
    "dframe2 = pd.concat(dfl2)\n",
    "\n"
   ],
   "outputs": [],
   "metadata": {}
  },
  {
   "cell_type": "code",
   "execution_count": 69,
   "source": [
    "dframe3 = dframe2.reset_index(drop=True)\n"
   ],
   "outputs": [],
   "metadata": {}
  },
  {
   "cell_type": "code",
   "execution_count": 58,
   "source": [
    "pd.DataFrame(dframe2).to_csv(f\"~/anwesenheiten/sheets.csv\")"
   ],
   "outputs": [],
   "metadata": {}
  },
  {
   "cell_type": "code",
   "execution_count": null,
   "source": [
    "dframe.groupby(by='Name', as_index=False).count()"
   ],
   "outputs": [],
   "metadata": {}
  },
  {
   "cell_type": "code",
   "execution_count": null,
   "source": [
    "import matplotlib.pyplot as plt  # To visualize\n",
    "from sklearn.linear_model import LinearRegression"
   ],
   "outputs": [],
   "metadata": {}
  }
 ],
 "metadata": {
  "orig_nbformat": 4,
  "kernelspec": {
   "name": "python3",
   "display_name": "Python 3",
   "language": "python"
  }
 },
 "nbformat": 4,
 "nbformat_minor": 2
}